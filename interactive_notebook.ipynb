{
 "cells": [
  {
   "cell_type": "markdown",
   "metadata": {},
   "source": [
    "# Interactive Notebook"
   ]
  },
  {
   "cell_type": "code",
   "execution_count": 1,
   "metadata": {
    "scrolled": true
   },
   "outputs": [
    {
     "data": {
      "text/plain": [
       "True"
      ]
     },
     "execution_count": 1,
     "metadata": {},
     "output_type": "execute_result"
    }
   ],
   "source": [
    "import requests\n",
    "from selenium import webdriver\n",
    "from selenium.webdriver.common.keys import Keys\n",
    "from selenium.webdriver.support.ui import WebDriverWait\n",
    "from selenium.webdriver.support import expected_conditions as EC\n",
    "from selenium.webdriver.common.by import By\n",
    "from selenium.common.exceptions import TimeoutException\n",
    "from bs4 import BeautifulSoup\n",
    "from time import sleep\n",
    "import pandas as pd\n",
    "import datetime\n",
    "import os\n",
    "\n",
    "from dotenv import load_dotenv\n",
    "load_dotenv()"
   ]
  },
  {
   "cell_type": "code",
   "execution_count": 2,
   "metadata": {},
   "outputs": [],
   "source": [
    "EMAIL = os.getenv(\"EMAIL\")\n",
    "PASSWORD = os.getenv(\"PASSWORD\")\n",
    "\n",
    "LOGIN_URL = \"https://account.packtpub.com/account/products\"\n",
    "chrome_driver = \"/usr/bin/chromedriver\""
   ]
  },
  {
   "cell_type": "code",
   "execution_count": 3,
   "metadata": {
    "scrolled": false
   },
   "outputs": [
    {
     "name": "stdout",
     "output_type": "stream",
     "text": [
      "Login Page is ready!\n",
      "Products Page 0 is ready!\n",
      "\tPandas Cookbook\n",
      "\tDjango by Example [Video]\n",
      "\tLearning Python [Video]\n",
      "\tImplementing Modern DevOps\n",
      "\tSoftware Architecture with Python [Video]\n",
      "\tCloud Native programming with Golang\n",
      "\tDevOps with Kubernetes\n",
      "\tEthical Hacking for Beginners [Video]\n",
      "\tHands - On Reinforcement Learning with Python [Video]\n",
      "\tNetwork Programming with Go [Video]\n",
      "Next Page Displayed:'True'\tNext Page Enabled:'True'\n",
      "\n",
      "Getting next page...\n",
      "Products Page 1 is ready!\n",
      "\tData Analysis with Python [Video]\n",
      "\tPython Microservices Development\n",
      "\tPython Web Scraping Cookbook\n",
      "\tContinuous Delivery with Docker and Jenkins\n",
      "\tAWS Certified Developer - Associate Guide\n",
      "\tIndustrial Cybersecurity\n",
      "\tPython Web Scraping - Second Edition\n",
      "\tMachine Learning Algorithms\n",
      "\tPython GUI Programming Cookbook - Second Edition\n",
      "\tPractical Machine Learning Cookbook\n",
      "Next Page Displayed:'True'\tNext Page Enabled:'True'\n",
      "\n",
      "Getting next page...\n",
      "Products Page 2 is ready!\n",
      "\tMachine Learning with R - Second Edition\n",
      "\tLearning Data Mining with Python\n",
      "\tOpenCV 3 Computer Vision Application Programming Cookbook - Third Edition\n",
      "\tTensorFlow Machine Learning Cookbook\n",
      "\tPython Machine Learning By Example\n",
      "\tDeep Learning with TensorFlow\n",
      "\tPython Deep Learning\n",
      "\tMastering Blockchain\n",
      "\tModern Python Cookbook\n",
      "\tObject-Oriented JavaScript - Second Edition\n",
      "Next Page Displayed:'True'\tNext Page Enabled:'True'\n",
      "\n",
      "Getting next page...\n",
      "Products Page 3 is ready!\n",
      "\tGo Programming Blueprints - Second Edition\n",
      "\tMastering TypeScript - Second Edition\n",
      "\tPython for Finance\n",
      "\tPython Data Structures and Algorithms\n",
      "\tSoftware Architecture with Python\n",
      "\tLearning Docker - Second Edition\n",
      "\tProgramming Kotlin\n",
      "\tBeginning C++ Programming\n",
      "\tReact and React Native\n",
      "\tPython for Finance - Second Edition\n",
      "Next Page Displayed:'True'\tNext Page Enabled:'True'\n",
      "\n",
      "Getting next page...\n",
      "Products Page 4 is ready!\n",
      "\tLearning Concurrency in Python\n",
      "\tBuilding Microservices with Go\n",
      "\tMastering Kubernetes\n",
      "\tFree PDF eBook: What You Need To Know About Node.js\n",
      "\tXamarin Cross-Platform Development Cookbook\n",
      "\tSwift Essentials - Second Edition\n",
      "\tMastering iOS Game Development\n",
      "\tRaspberry Pi Cookbook for Python Programmers\n",
      "\tLearning OpenCV 3 Computer Vision with Python - Second Edition\n",
      "\tMastering Docker - Second Edition\n",
      "Next Page Displayed:'True'\tNext Page Enabled:'True'\n",
      "\n",
      "Getting next page...\n",
      "Products Page 5 is ready!\n",
      "\tStatistics for Machine Learning\n",
      "\tMastering OpenCV with Practical Computer Vision Projects\n",
      "\tMastering Android NDK\n",
      "\tMastering Python Design Patterns\n",
      "\tMastering Social Media Mining with Python\n",
      "\tLaTeX Beginner's Guide\n",
      "\tWeb Scraping with Python\n",
      "\tPython for Secret Agents\n",
      "\tPython GUI Programming Cookbook\n",
      "\tLearning PySpark\n",
      "Next Page Displayed:'True'\tNext Page Enabled:'True'\n",
      "\n",
      "Getting next page...\n",
      "Products Page 6 is ready!\n",
      "\tReact Native Cookbook\n",
      "\tLearning Vue.js 2\n",
      "\tPrinciples of Data Science\n",
      "\tDevOps for Networking\n",
      "\tAWS Administration - The Definitive Guide\n",
      "\tArtificial Intelligence with Python\n",
      "\tWeb Development with Django Cookbook - Second Edition\n",
      "\tLearning Python Design Patterns - Second Edition\n",
      "\tPython 3 Object-oriented Programming - Second Edition\n",
      "\tDocker Networking Cookbook\n",
      "Next Page Displayed:'True'\tNext Page Enabled:'True'\n",
      "\n",
      "Getting next page...\n",
      "Products Page 7 is ready!\n",
      "\tMastering React Native\n",
      "\tGo Design Patterns\n",
      "\tImplementing DevOps on AWS\n",
      "\tTroubleshooting Docker\n",
      "\tBayesian Analysis with Python\n",
      "\tMastering Git\n",
      "\tLearning Python Application Development\n",
      "\tFree PDF eBook: What You Need to Know about Machine Learning\n",
      "\tFree PDF eBook: Hadoop Explained\n",
      "\tAutomate it! - Recipes to upskill your business\n",
      "Next Page Displayed:'True'\tNext Page Enabled:'True'\n",
      "\n",
      "Getting next page...\n",
      "Products Page 8 is ready!\n",
      "\tPractical DevOps\n",
      "\tInfrastructure as Code (IAC) Cookbook\n",
      "\tiOS 10 Programming for Beginners\n",
      "\tLearning Jupyter\n",
      "\tBuilding RESTful Python Web Services\n",
      "\tLearning Web Development with Bootstrap and AngularJS\n",
      "\tBuilding Slack Bots\n",
      "\tFree PDF eBook: Hadoop Explained\n",
      "\tBuilding Websites with XOOPS : A step-by-step tutorial\n",
      "\tGetting Started with TensorFlow\n",
      "Next Page Displayed:'True'\tNext Page Enabled:'True'\n",
      "\n",
      "Getting next page...\n",
      "Products Page 9 is ready!\n",
      "\tLearning Python\n",
      "\tFree PDF eBook: What you need to know about Python\n",
      "\tMastering Python\n",
      "\tAdvanced Machine Learning with Python\n",
      "\tBuilding Machine Learning Systems with Python\n",
      "\tBuilding Machine Learning Projects with TensorFlow\n",
      "Next Page Displayed:'True'\tNext Page Enabled:'False'\n",
      "\n",
      "Getting next page...\n",
      "\n",
      "\n",
      "Completed going through all owned products!\n",
      "You have 96 products!\n"
     ]
    }
   ],
   "source": [
    "browser = webdriver.Chrome(executable_path=chrome_driver)  # Or Chrome(), or Ie(), or Opera()\n",
    "browser.get(LOGIN_URL)\n",
    "\n",
    "delay = 30  # seconds\n",
    "try:\n",
    "    username = WebDriverWait(browser, delay).until(\n",
    "        EC.presence_of_element_located(\n",
    "            (\n",
    "                By.XPATH,\n",
    "                \"/html/body/app-root/div/ng-component/div/div/ng-component/div/form/div[1]/input\",\n",
    "            )\n",
    "        )\n",
    "    )\n",
    "    print(\"Login Page is ready!\")\n",
    "except TimeoutException:\n",
    "    print(\"Loading Login Page took too much time!\")\n",
    "\n",
    "password = browser.find_element_by_xpath(\n",
    "    \"/html/body/app-root/div/ng-component/div/div/ng-component/div/form/div[2]/input\"\n",
    ")\n",
    "\n",
    "username.send_keys(EMAIL)\n",
    "password.send_keys(PASSWORD)\n",
    "\n",
    "login_button = browser.find_element_by_xpath(\n",
    "    \"/html/body/app-root/div/ng-component/div/div/ng-component/div/form/button\"\n",
    ")\n",
    "login_button.click()\n",
    "\n",
    "my_products = []\n",
    "next_page_exists = True\n",
    "page_number = 0\n",
    "xml_path = \"/html/body/app-root/div/ng-component/div/mat-sidenav-container/mat-sidenav-content/account-products/div/div/mat-paginator/div/div[2]/button[3]\"\n",
    "\n",
    "\n",
    "while next_page_exists:\n",
    "    \n",
    "    try:\n",
    "        myElem = WebDriverWait(browser, delay).until(\n",
    "            EC.presence_of_element_located((By.XPATH, xml_path))\n",
    "        )\n",
    "        print(f\"Products Page {page_number} is ready!\")\n",
    "        \n",
    "    except TimeoutException:\n",
    "        print(f\"Loading Products Page {page_number} took too much time!\")\n",
    "    \n",
    "    # allow us to capture new html content\n",
    "    sleep(3)\n",
    "\n",
    "    soup_level1 = BeautifulSoup(browser.page_source, \"html.parser\")\n",
    "\n",
    "    for product_title in soup_level1.find_all(\"h5\"):\n",
    "        print(f\"\\t{product_title.text}\")\n",
    "        my_products.append(product_title.text)\n",
    "    \n",
    "    sleep(1)\n",
    "    xml_path = \"/html/body/app-root/div/ng-component/div/mat-sidenav-container/mat-sidenav-content/account-products/div/div/mat-paginator/div/div[2]/button[3]\"\n",
    "\n",
    "    next_page_link = browser.find_element_by_xpath(xml_path)\n",
    "    \n",
    "    print(f\"Next Page Displayed:'{next_page_link.is_displayed()}'\\tNext Page Enabled:'{next_page_link.is_enabled()}'\")\n",
    "    \n",
    "    next_page_exists = next_page_link.is_enabled()\n",
    "    \n",
    "    print(\"\\nGetting next page...\")\n",
    "    page_number += 1\n",
    "    browser.execute_script(\"arguments[0].click();\", next_page_link)\n",
    "    \n",
    "print(\"\\n\\nCompleted going through all owned products!\")\n",
    "print(f\"You have {len(my_products)} products!\")"
   ]
  },
  {
   "cell_type": "code",
   "execution_count": 4,
   "metadata": {},
   "outputs": [
    {
     "data": {
      "text/plain": [
       "96"
      ]
     },
     "execution_count": 4,
     "metadata": {},
     "output_type": "execute_result"
    }
   ],
   "source": [
    "len(my_products)"
   ]
  },
  {
   "cell_type": "code",
   "execution_count": 5,
   "metadata": {},
   "outputs": [],
   "source": [
    "packt_pub_products = my_products"
   ]
  },
  {
   "cell_type": "code",
   "execution_count": 6,
   "metadata": {},
   "outputs": [],
   "source": [
    "list_of_lists = []\n",
    "for product in packt_pub_products:\n",
    "    list_of_lists.append([product])"
   ]
  },
  {
   "cell_type": "code",
   "execution_count": 7,
   "metadata": {},
   "outputs": [
    {
     "data": {
      "text/plain": [
       "[['Pandas Cookbook'],\n",
       " ['Django by Example [Video]'],\n",
       " ['Learning Python [Video]'],\n",
       " ['Implementing Modern DevOps'],\n",
       " ['Software Architecture with Python [Video]'],\n",
       " ['Cloud Native programming with Golang'],\n",
       " ['DevOps with Kubernetes'],\n",
       " ['Ethical Hacking for Beginners [Video]'],\n",
       " ['Hands - On Reinforcement Learning with Python [Video]'],\n",
       " ['Network Programming with Go [Video]']]"
      ]
     },
     "execution_count": 7,
     "metadata": {},
     "output_type": "execute_result"
    }
   ],
   "source": [
    "list_of_lists[:10]"
   ]
  },
  {
   "cell_type": "code",
   "execution_count": 8,
   "metadata": {},
   "outputs": [
    {
     "data": {
      "text/html": [
       "<div>\n",
       "<style scoped>\n",
       "    .dataframe tbody tr th:only-of-type {\n",
       "        vertical-align: middle;\n",
       "    }\n",
       "\n",
       "    .dataframe tbody tr th {\n",
       "        vertical-align: top;\n",
       "    }\n",
       "\n",
       "    .dataframe thead th {\n",
       "        text-align: right;\n",
       "    }\n",
       "</style>\n",
       "<table border=\"1\" class=\"dataframe\">\n",
       "  <thead>\n",
       "    <tr style=\"text-align: right;\">\n",
       "      <th></th>\n",
       "      <th>product</th>\n",
       "    </tr>\n",
       "  </thead>\n",
       "  <tbody>\n",
       "    <tr>\n",
       "      <th>0</th>\n",
       "      <td>Pandas Cookbook</td>\n",
       "    </tr>\n",
       "    <tr>\n",
       "      <th>1</th>\n",
       "      <td>Django by Example [Video]</td>\n",
       "    </tr>\n",
       "    <tr>\n",
       "      <th>2</th>\n",
       "      <td>Learning Python [Video]</td>\n",
       "    </tr>\n",
       "    <tr>\n",
       "      <th>3</th>\n",
       "      <td>Implementing Modern DevOps</td>\n",
       "    </tr>\n",
       "    <tr>\n",
       "      <th>4</th>\n",
       "      <td>Software Architecture with Python [Video]</td>\n",
       "    </tr>\n",
       "  </tbody>\n",
       "</table>\n",
       "</div>"
      ],
      "text/plain": [
       "                                     product\n",
       "0                            Pandas Cookbook\n",
       "1                  Django by Example [Video]\n",
       "2                    Learning Python [Video]\n",
       "3                 Implementing Modern DevOps\n",
       "4  Software Architecture with Python [Video]"
      ]
     },
     "execution_count": 8,
     "metadata": {},
     "output_type": "execute_result"
    }
   ],
   "source": [
    "df = pd.DataFrame(list_of_lists)\n",
    "df.columns = ['product']\n",
    "df.head()"
   ]
  },
  {
   "cell_type": "code",
   "execution_count": 9,
   "metadata": {},
   "outputs": [
    {
     "data": {
      "text/html": [
       "<div>\n",
       "<style scoped>\n",
       "    .dataframe tbody tr th:only-of-type {\n",
       "        vertical-align: middle;\n",
       "    }\n",
       "\n",
       "    .dataframe tbody tr th {\n",
       "        vertical-align: top;\n",
       "    }\n",
       "\n",
       "    .dataframe thead th {\n",
       "        text-align: right;\n",
       "    }\n",
       "</style>\n",
       "<table border=\"1\" class=\"dataframe\">\n",
       "  <thead>\n",
       "    <tr style=\"text-align: right;\">\n",
       "      <th></th>\n",
       "      <th>product</th>\n",
       "      <th>type</th>\n",
       "    </tr>\n",
       "  </thead>\n",
       "  <tbody>\n",
       "    <tr>\n",
       "      <th>0</th>\n",
       "      <td>Pandas Cookbook</td>\n",
       "      <td>Book</td>\n",
       "    </tr>\n",
       "    <tr>\n",
       "      <th>1</th>\n",
       "      <td>Django by Example</td>\n",
       "      <td>Video</td>\n",
       "    </tr>\n",
       "    <tr>\n",
       "      <th>2</th>\n",
       "      <td>Learning Python</td>\n",
       "      <td>Video</td>\n",
       "    </tr>\n",
       "    <tr>\n",
       "      <th>3</th>\n",
       "      <td>Implementing Modern DevOps</td>\n",
       "      <td>Book</td>\n",
       "    </tr>\n",
       "    <tr>\n",
       "      <th>4</th>\n",
       "      <td>Software Architecture with Python</td>\n",
       "      <td>Video</td>\n",
       "    </tr>\n",
       "  </tbody>\n",
       "</table>\n",
       "</div>"
      ],
      "text/plain": [
       "                             product   type\n",
       "0                    Pandas Cookbook   Book\n",
       "1                  Django by Example  Video\n",
       "2                    Learning Python  Video\n",
       "3         Implementing Modern DevOps   Book\n",
       "4  Software Architecture with Python  Video"
      ]
     },
     "execution_count": 9,
     "metadata": {},
     "output_type": "execute_result"
    }
   ],
   "source": [
    "df = df['product'].str.split('[', expand=True)\n",
    "df.columns = ['product', 'type']\n",
    "df.loc[df['type'].isnull(), 'type'] = 'Book'\n",
    "df['type'] = df['type'].str.replace(']', '')\n",
    "df['product'] = df['product'].str.rstrip()\n",
    "df.head()"
   ]
  },
  {
   "cell_type": "code",
   "execution_count": 10,
   "metadata": {},
   "outputs": [
    {
     "data": {
      "text/plain": [
       "'2019-08-10'"
      ]
     },
     "execution_count": 10,
     "metadata": {},
     "output_type": "execute_result"
    }
   ],
   "source": [
    "now = datetime.datetime.now()\n",
    "now.strftime('%F')"
   ]
  },
  {
   "cell_type": "code",
   "execution_count": 11,
   "metadata": {},
   "outputs": [
    {
     "name": "stdout",
     "output_type": "stream",
     "text": [
      "Saving to 2019-08-10-packt-pub-products-library.csv\n"
     ]
    }
   ],
   "source": [
    "csv_file_name = now.strftime('%F') + '-packt-pub-products-library.csv'\n",
    "print(f\"Saving to {csv_file_name}\")\n",
    "df.to_csv(csv_file_name)"
   ]
  },
  {
   "cell_type": "code",
   "execution_count": 12,
   "metadata": {},
   "outputs": [
    {
     "name": "stdout",
     "output_type": "stream",
     "text": [
      "2019-08-10-packt-pub-products-library.csv  products_page_source.html\r\n",
      "app.py\t\t\t\t\t   secondary_interactive_notebook.ipynb\r\n",
      "geckodriver.log\t\t\t\t   venv\r\n",
      "interactive_notebook.ipynb\r\n"
     ]
    }
   ],
   "source": [
    "!ls"
   ]
  }
 ],
 "metadata": {
  "kernelspec": {
   "display_name": "Python 3",
   "language": "python",
   "name": "python3"
  },
  "language_info": {
   "codemirror_mode": {
    "name": "ipython",
    "version": 3
   },
   "file_extension": ".py",
   "mimetype": "text/x-python",
   "name": "python",
   "nbconvert_exporter": "python",
   "pygments_lexer": "ipython3",
   "version": "3.7.4"
  }
 },
 "nbformat": 4,
 "nbformat_minor": 2
}
